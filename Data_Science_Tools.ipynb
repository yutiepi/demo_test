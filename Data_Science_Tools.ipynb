{
 "cells": [
  {
   "cell_type": "markdown",
   "metadata": {
    "tags": []
   },
   "source": [
    "# Data Science Tools and Ecosystem"
   ]
  },
  {
   "cell_type": "markdown",
   "metadata": {},
   "source": [
    "In this notebook, Data Science Tools and Ecosystem are summarized, including Python, R, Scala, and SQL. You’ll be introduced to the open source and commercial data science tools available. You’ll also learn about the packages, APIs, data sets and models frequently used by Data Scientists."
   ]
  },
  {
   "cell_type": "markdown",
   "metadata": {},
   "source": [
    "**Objectives:most popular languages for Data Science.**\n",
    "+ Python\n",
    "+ R\n",
    "+ SQL"
   ]
  },
  {
   "cell_type": "markdown",
   "metadata": {},
   "source": [
    "**Some of the popular languages that Data Scientists use are:**\n",
    "1. Python\n",
    "2. R\n",
    "3. SQL\n",
    "4. Scala\n",
    "5. Java\n",
    "6. C++\n",
    "7. Julia\n",
    "and so on..."
   ]
  },
  {
   "cell_type": "markdown",
   "metadata": {},
   "source": [
    "**Some of the commonly used libraries used by Data Scientists include:**\n",
    "1. Pandas\n",
    "2. Numpy\n",
    "3. Matplotlib\n",
    "4. Seaborn\n",
    "5. Scikit-learn\n",
    "6. Keras\n",
    "7. TensorFlow\n",
    "8. PyTorch\n",
    "and so on..."
   ]
  },
  {
   "cell_type": "markdown",
   "metadata": {},
   "source": [
    "**There are some data science tools:**\n",
    "<table>\n",
    "    <tr>\n",
    "        <td>Open Source or not</td>\n",
    "        <td>Type</td>\n",
    "        <td>Name </td>\n",
    "    </tr>\n",
    "    <tr>\n",
    "        <td>Open Source Tools</td>\n",
    "        <td>Development Environments</td>\n",
    "        <td>Jupyter<br>R Studio<br>Spyder<br>Apache Zeppelin</td>\n",
    "    </tr>\n",
    "    <tr>\n",
    "        <td>Open Source Tools</td>\n",
    "        <td>Execution Environments</td>\n",
    "        <td>Spark<br>Flink<br>Spyder<br>Ray</td>\n",
    "    </tr>\n",
    "    <tr>\n",
    "        <td>Open Source Tools</td>\n",
    "        <td>Fully Integrated Visual Tools</td>\n",
    "        <td>KNIME<br>Orange</td>\n",
    "    </tr>\n",
    "    <tr>\n",
    "        <td>Commercial Tools</td>\n",
    "        <td>Data Management</td>\n",
    "        <td>Oracle<br>SQL Server<br>IBM DB2</td>\n",
    "    </tr>\n",
    "    <tr>\n",
    "        <td>Commercial Tools</td>\n",
    "        <td>Data Integration and Transformation</td>\n",
    "        <td>talend<br>Informatica<br>IBM InfoSphere DataStage<br>IBM Watson Studio Desktop</td>\n",
    "    </tr>\n",
    "    <tr>\n",
    "        <td>Commercial Tools</td>\n",
    "        <td>Data Visualization</td>\n",
    "        <td>Tableau<br>Informatica<br>Microsoft Power BI<br>IBM Cognos Analytics<br>IBM Watson Studio Desktop</td>\n",
    "    </tr>\n",
    "    <tr>\n",
    "        <td>Commercial Tools</td>\n",
    "        <td>Model Building</td>\n",
    "        <td>SPSS Modeler<br>SAS Enterprise Miner<br>IBM Watson Studio Desktop</td>\n",
    "    </tr>\n",
    "    <tr>\n",
    "        <td>Commercial Tools</td>\n",
    "        <td>Model Deployment</td>\n",
    "        <td>SPSS Modeler</td>\n",
    "    </tr>\n",
    "    <tr>\n",
    "        <td>Commercial Tools</td>\n",
    "        <td>Data Asset Management</td>\n",
    "        <td>Informatica<br>IBM InfoSphere Information Governance Catalog</td>\n",
    "    </tr>\n",
    "    <tr>\n",
    "        <td>Commercial Tools</td>\n",
    "        <td>Fully Integrated Visual Tools</td>\n",
    "        <td>Watson Studio<br>H2O Driverless AI</td>\n",
    "    </tr>\n",
    "</table>"
   ]
  },
  {
   "cell_type": "markdown",
   "metadata": {},
   "source": [
    "### Below are a few examples of evaluating arithmetic expressions in Python"
   ]
  },
  {
   "cell_type": "markdown",
   "metadata": {},
   "source": [
    "This a simple arithmetic expression to mutiply then add integers."
   ]
  },
  {
   "cell_type": "code",
   "execution_count": 8,
   "metadata": {},
   "outputs": [
    {
     "data": {
      "text/plain": [
       "17"
      ]
     },
     "execution_count": 8,
     "metadata": {},
     "output_type": "execute_result"
    }
   ],
   "source": [
    "(3*4)+5"
   ]
  },
  {
   "cell_type": "markdown",
   "metadata": {},
   "source": [
    "This will convert 200 minutes to hours by diving by 60."
   ]
  },
  {
   "cell_type": "code",
   "execution_count": 9,
   "metadata": {},
   "outputs": [
    {
     "data": {
      "text/plain": [
       "3.3333333333333335"
      ]
     },
     "execution_count": 9,
     "metadata": {},
     "output_type": "execute_result"
    }
   ],
   "source": [
    "200/60"
   ]
  },
  {
   "cell_type": "markdown",
   "metadata": {},
   "source": [
    "## Author"
   ]
  },
  {
   "cell_type": "markdown",
   "metadata": {},
   "source": [
    "Daniel Yu"
   ]
  },
  {
   "cell_type": "code",
   "execution_count": null,
   "metadata": {},
   "outputs": [],
   "source": []
  }
 ],
 "metadata": {
  "kernelspec": {
   "display_name": "Python",
   "language": "python",
   "name": "conda-env-python-py"
  },
  "language_info": {
   "codemirror_mode": {
    "name": "ipython",
    "version": 3
   },
   "file_extension": ".py",
   "mimetype": "text/x-python",
   "name": "python",
   "nbconvert_exporter": "python",
   "pygments_lexer": "ipython3",
   "version": "3.7.12"
  }
 },
 "nbformat": 4,
 "nbformat_minor": 4
}
